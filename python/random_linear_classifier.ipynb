{
 "cells": [
  {
   "cell_type": "code",
   "execution_count": 241,
   "metadata": {},
   "outputs": [],
   "source": [
    "# Config\n",
    "RAND_MIN = 5\n",
    "RAND_MAX = 10\n",
    "DIM = 2"
   ]
  },
  {
   "cell_type": "code",
   "execution_count": 242,
   "metadata": {},
   "outputs": [],
   "source": [
    "# Helper function\n",
    "def argmin(inp):\n",
    "    index = 0\n",
    "    for i in range(1, len(inp)):\n",
    "        if inp[i] < inp[index]:\n",
    "            index = i\n",
    "    return index"
   ]
  },
  {
   "cell_type": "code",
   "execution_count": 243,
   "metadata": {},
   "outputs": [],
   "source": [
    "# Random dimensioned value generator\n",
    "from random import random\n",
    "def random_d(d):\n",
    "    return [(random() * RAND_MAX - RAND_MIN) for i in range(d)]"
   ]
  },
  {
   "cell_type": "code",
   "execution_count": 262,
   "metadata": {},
   "outputs": [],
   "source": [
    "# Linear classifier hypothesis function\n",
    "def hypothesis(x, theta, theta0):\n",
    "    total = theta0\n",
    "    for i in range(DIM):\n",
    "        total += theta[i] * x[i]\n",
    "    return 1 if total > 0 else -1\n",
    "\n",
    "# Squared difference loss function\n",
    "def loss(g, a):\n",
    "    return (g - a) ** 2\n",
    "\n",
    "# Training error function\n",
    "def error(d, theta, theta0):\n",
    "    total = 0\n",
    "    for i in range(len(d)):\n",
    "        guess = hypothesis(d[i][0], theta, theta0)\n",
    "        total += loss(guess, d[i][1])\n",
    "    return total / len(d)"
   ]
  },
  {
   "cell_type": "code",
   "execution_count": 263,
   "metadata": {},
   "outputs": [],
   "source": [
    "# Random linear classifier algorithm\n",
    "def random_linear_classifier(d, k):\n",
    "    options = []\n",
    "    \n",
    "    for j in range(k):\n",
    "        theta = random_d(DIM)\n",
    "        theta0 = random_d(1)[0]\n",
    "        options.append((theta, theta0))\n",
    "    \n",
    "    errors = [error(data, opt[0], opt[1]) for opt in options]\n",
    "    minIndex = argmin(errors)\n",
    "    return (options[minIndex], errors[minIndex])"
   ]
  },
  {
   "cell_type": "code",
   "execution_count": 264,
   "metadata": {},
   "outputs": [
    {
     "data": {
      "text/plain": [
       "<matplotlib.collections.PathCollection at 0xfb8ace8>"
      ]
     },
     "execution_count": 264,
     "metadata": {},
     "output_type": "execute_result"
    },
    {
     "data": {
      "image/png": "[encoded data removed]",
      "text/plain": [
       "<Figure size 432x288 with 1 Axes>"
      ]
     },
     "metadata": {
      "needs_background": "light"
     },
     "output_type": "display_data"
    }
   ],
   "source": [
    "# Setup data and visualize\n",
    "data = [\n",
    "    ((1,2), 1),\n",
    "    ((-3,-4), -1),\n",
    "    ((4,3), 1),\n",
    "    ((4, 0.1), 1),\n",
    "    ((-7, -6), -1),\n",
    "    ((0.1, 5), -1) ]\n",
    "\n",
    "x = [d[0][0] for d in data]\n",
    "y = [d[0][1] for d in data]\n",
    "col = [d[1] for d in data]\n",
    "plt.scatter(x, y, c=col)"
   ]
  },
  {
   "cell_type": "code",
   "execution_count": 268,
   "metadata": {},
   "outputs": [
    {
     "name": "stdout",
     "output_type": "stream",
     "text": [
      "for k = 150\n",
      "theta = [4.5320084661703195, -2.1004414868005474]\n",
      "theta0 = 1.620883882439987\n",
      "Error: 0.0\n"
     ]
    },
    {
     "data": {
      "image/png": "[encoded data removed]",
      "text/plain": [
       "<Figure size 432x288 with 1 Axes>"
      ]
     },
     "metadata": {
      "needs_background": "light"
     },
     "output_type": "display_data"
    }
   ],
   "source": [
    "# Imports\n",
    "import matplotlib.pyplot as plt\n",
    "\n",
    "# Calculate error for various hyper parameters\n",
    "NUM_K = 150\n",
    "ks = range(1, NUM_K+1)\n",
    "thetas = []\n",
    "errors = []\n",
    "for k in ks:\n",
    "    (theta, err) = random_linear_classifier(data, k)\n",
    "    thetas.append(theta)\n",
    "    errors.append(err)\n",
    "    \n",
    "# Plot data\n",
    "plt.plot(ks, errors)\n",
    "print(\"for k = \" + str(NUM_K))\n",
    "print(\"theta = \" + str(thetas[NUM_K-1][0]))\n",
    "print(\"theta0 = \" + str(thetas[NUM_K-1][1]))\n",
    "print(\"Error: \" + str(errors[NUM_K-1]))"
   ]
  },
  {
   "cell_type": "code",
   "execution_count": null,
   "metadata": {},
   "outputs": [],
   "source": []
  }
 ],
 "metadata": {
  "kernelspec": {
   "display_name": "Python 3",
   "language": "python",
   "name": "python3"
  },
  "language_info": {
   "codemirror_mode": {
    "name": "ipython",
    "version": 3
   },
   "file_extension": ".py",
   "mimetype": "text/x-python",
   "name": "python",
   "nbconvert_exporter": "python",
   "pygments_lexer": "ipython3",
   "version": "3.8.0"
  }
 },
 "nbformat": 4,
 "nbformat_minor": 2
}
