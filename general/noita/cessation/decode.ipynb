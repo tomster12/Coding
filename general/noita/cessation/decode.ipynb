{
 "cells": [
  {
   "cell_type": "code",
   "execution_count": 15,
   "metadata": {},
   "outputs": [
    {
     "name": "stdout",
     "output_type": "stream",
     "text": [
      "323254121232543212222322222321\n"
     ]
    }
   ],
   "source": [
    "# Corrected CT\n",
    "ct_full = \"22411111321211111120311411241111311130121141111112111211222032421512112111303241111411111211112012242114111212212011115224122121112012151111412221230122422412212111201134111141111121211101215112411121223012151341112212120121111222412111221203152114111221113011342242122211201224211412112111303151124121112212031521141112211112012151124112111123031511241221111130121142211112121121301211111111242111212110121142114122212303151115121121230324224212221120311411241123121203151342121111\"\n",
    "ct = ct_full.split(\"0\")\n",
    "ct[0] = \"3\" + ct[0][1:]\n",
    "\n",
    "# Extracted distances\n",
    "distances = [ \"1\" for _ in range(30) ]\n",
    "for line in ct:\n",
    "    ptr = 0\n",
    "    for c in line:\n",
    "        if distances[ptr] == \"1\":\n",
    "            distances[ptr] = c\n",
    "        ptr += int(c)\n",
    "distances = \"\".join(distances)\n",
    "print(distances)\n",
    "\n",
    "# 323254121232543212222322222321\n",
    "# X-Y\n",
    "#  XY\n",
    "#   Y-X                          \n",
    "#    YX                          \n",
    "#     X---Y                          \n",
    "#      X--Y                          \n",
    "#       X\n",
    "#        XY\n",
    "#         Y\n",
    "#          XY\n",
    "#           Y-X\n",
    "#            YX\n",
    "#             X---Y\n",
    "#              X--Y\n",
    "#               X-Y\n",
    "#                XY\n",
    "#                 Y\n",
    "#                  YX\n",
    "#                   XY\n",
    "#                    YX\n",
    "#                     XY\n",
    "#                      Y-X\n",
    "#                       YX\n",
    "#                        XY\n",
    "#                         YX\n",
    "#                          XY\n",
    "#                           YX\n",
    "#                            X-Y\n",
    "#                             XY\n",
    "#                              Y\n",
    "# 1100111101001111001010010101101\n"
   ]
  },
  {
   "cell_type": "code",
   "execution_count": 46,
   "metadata": {},
   "outputs": [
    {
     "name": "stdout",
     "output_type": "stream",
     "text": [
      "010100110100010101000101010010110100100101001110010001110010000001010100010100100101010101010100010010000010110000100000010101000100100001000101001000000101011101001001010100110100010100100000010001100100100101001110010001000010000001001001010011100101001101010100010001010100000101000100001000000100100101010100010100110010000001010000010100100100111101000110010011110101010101001110010001000010000001000001010000100101001101000101010011100100001101000101\n",
      "SEEKING TRUTH, THE WISE FIND INSTEAD ITS PROFOUND ABSENCE\n"
     ]
    }
   ],
   "source": [
    "key = \"1100111101001111001010010101101\"\n",
    "\n",
    "output = \"\"\n",
    "for line in ct:\n",
    "    sum = -1\n",
    "    for n in line:\n",
    "        sum += int(n)\n",
    "        output += key[sum]\n",
    "\n",
    "print(output)\n",
    "ascii = [output[i:i+8] for i in range(0, len(output), 8)]\n",
    "ascii = [chr(int(c, 2)) for c in ascii]\n",
    "print(\"\".join(ascii))\n"
   ]
  },
  {
   "cell_type": "code",
   "execution_count": null,
   "metadata": {},
   "outputs": [],
   "source": []
  }
 ],
 "metadata": {
  "kernelspec": {
   "display_name": "Python 3",
   "language": "python",
   "name": "python3"
  },
  "language_info": {
   "codemirror_mode": {
    "name": "ipython",
    "version": 3
   },
   "file_extension": ".py",
   "mimetype": "text/x-python",
   "name": "python",
   "nbconvert_exporter": "python",
   "pygments_lexer": "ipython3",
   "version": "3.11.1"
  }
 },
 "nbformat": 4,
 "nbformat_minor": 2
}
