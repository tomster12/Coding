{
 "cells": [
  {
   "cell_type": "code",
   "execution_count": 28,
   "metadata": {},
   "outputs": [],
   "source": [
    "import matplotlib.pyplot as plt\n",
    "import numpy as np\n",
    "import random\n"
   ]
  },
  {
   "cell_type": "code",
   "execution_count": 48,
   "metadata": {},
   "outputs": [
    {
     "name": "stdout",
     "output_type": "stream",
     "text": [
      "6\n"
     ]
    }
   ],
   "source": [
    "msgs_raw = [\n",
    "    \"224111113212111111263114112411113111361211411111121112112226324215121121113632411114111112111126\",\n",
    "    \"111211121122263242151211211136324111141111121111261224211411121221261111522412212111261215111141\",\n",
    "    \"112612242114111212212611115224122121112612151111412221236122422412212111261134111141111121211161\",\n",
    "    \"114122212361224224122121112611341111411111212111612151124111212236121513411122121261211112224121\",\n",
    "    \"11612151124111212236121513411122121261211112224121112212631521141112211136113422421222112612242114\"\n",
    "]\n",
    "\n",
    "msgs = [\n",
    "    \"2241111132121111112631141124111131113612114111\",\n",
    "    \"11121112112226324215121121113632411114111112111126\",\n",
    "    \"1224211411121221261111522412212111261215111141\",\n",
    "    \"2221236122422412212111261134111141111121211161\",\n",
    "    \"2151124111212236121513411122121261211112224121\",\n",
    "    \"112212631521141112211136113422421222112612242114\"\n",
    "]\n",
    "\n",
    "msgs_flat = \"\".join(msgs)\n",
    "\n",
    "msgs_rnd_1 = [ \"\".join([str(random.randint(1,6)) for _ in range(random.randint(45, 55))]) for _ in range(6) ]\n",
    "\n",
    "# Messy code for structured random data with rules about sums to 30 then a 6\n",
    "msgs_rnd_2_all = []\n",
    "ranges_to_make = 25\n",
    "for i in range(ranges_to_make):\n",
    "    while True:\n",
    "        vals = []\n",
    "        if i < ranges_to_make:\n",
    "            while sum(vals) != 30:\n",
    "                vals = []\n",
    "                while sum(vals) < 30:\n",
    "                    vals.append(random.randint(1,5))\n",
    "        else:\n",
    "            for i in range(random.randint(4, 8)):\n",
    "                vals.append(random.randint(1,5))\n",
    "        vals.append(6)\n",
    "        msgs_rnd_2_all += vals\n",
    "        break\n",
    "msgs_rnd_2 = []\n",
    "while msgs_rnd_2_all:\n",
    "    to_take = min(random.randint(45, 55), len(msgs_rnd_2_all))\n",
    "    msg = \"\".join([ str(x) for x in msgs_rnd_2_all[:to_take] ])\n",
    "    msgs_rnd_2.append(msg)\n",
    "    msgs_rnd_2_all = msgs_rnd_2_all[to_take:]\n",
    "print(len(msgs_rnd_2))\n",
    "\n",
    "msgs_rnd = msgs_rnd_2\n",
    "\n",
    "msgs_rnd_flat = \"\".join(msgs_rnd)\n"
   ]
  },
  {
   "cell_type": "markdown",
   "metadata": {},
   "source": [
    "# Split on 6 (SO6)"
   ]
  },
  {
   "cell_type": "code",
   "execution_count": 30,
   "metadata": {},
   "outputs": [
    {
     "name": "stdout",
     "output_type": "stream",
     "text": [
      "16 messages\n",
      "lengths=[29, 30, 30, 30, 30, 30, 30, 30, 30, 30, 30, 30, 30, 30, 30, 17]\n",
      "\n",
      "29\t 2241111132121111112\n",
      "30\t 31141124111131113\n",
      "30\t 121141111112111211222\n",
      "30\t 324215121121113\n",
      "30\t 3241111411111211112\n",
      "30\t 12242114111212212\n",
      "30\t 11115224122121112\n",
      "30\t 1215111141222123\n",
      "30\t 1224224122121112\n",
      "30\t 11341111411111212111\n",
      "30\t 1215112411121223\n",
      "30\t 1215134111221212\n",
      "30\t 1211112224121112212\n",
      "30\t 3152114111221113\n",
      "30\t 113422421222112\n",
      "17\t 12242114\n"
     ]
    }
   ],
   "source": [
    "msgs_s6 = \"\".join(msgs).split(\"6\")\n",
    "msgs_s6_lengths = [ sum([ int(x) for x in msg ]) for msg in msgs_s6 ]\n",
    "\n",
    "print(f\"{len(msgs_s6)} messages\")\n",
    "print(f\"lengths={msgs_s6_lengths}\\n\")\n",
    "for msg_len, msg in zip(msgs_s6_lengths, msgs_s6):\n",
    "    print(f\"{msg_len}\\t {msg}\")\n"
   ]
  },
  {
   "cell_type": "markdown",
   "metadata": {},
   "source": [
    "# Split on 4 (SO4)"
   ]
  },
  {
   "cell_type": "code",
   "execution_count": 32,
   "metadata": {},
   "outputs": [
    {
     "name": "stdout",
     "output_type": "stream",
     "text": [
      "24 messages\n",
      "lengths=[4, 32, 4, 24, 32, 32, 4, 24, 4, 32, 32, 24, 4, 24, 4, 32, 32, 32, 32, 24, 4, 24, 4, 0]\n",
      "\n",
      "4\t 22\n",
      "32\t 11111321211111126311\n",
      "4\t 112\n",
      "24\t 11113111361211\n",
      "32\t 1111112111211222632\n",
      "32\t 215121121113632\n",
      "4\t 1111\n",
      "24\t 111112111126122\n",
      "4\t 211\n",
      "32\t 11121221261111522\n",
      "32\t 122121112612151111\n",
      "24\t 12221236122\n",
      "4\t 22\n",
      "24\t 1221211126113\n",
      "4\t 1111\n",
      "32\t 1111121211161215112\n",
      "32\t 111212236121513\n",
      "32\t 1112212126121111222\n",
      "32\t 1211122126315211\n",
      "24\t 1112211136113\n",
      "4\t 22\n",
      "24\t 212221126122\n",
      "4\t 211\n",
      "0\t \n"
     ]
    }
   ],
   "source": [
    "msgs_s4 = \"\".join(msgs).split(\"4\")\n",
    "msgs_s4_lengths = [ sum([ int(x) for x in msg ]) for msg in msgs_s4 ]\n",
    "\n",
    "print(f\"{len(msgs_s4)} messages\")\n",
    "print(f\"lengths={msgs_s4_lengths}\\n\")\n",
    "for msg_len, msg in zip(msgs_s4_lengths, msgs_s4):\n",
    "    print(f\"{msg_len}\\t {msg}\")\n"
   ]
  },
  {
   "cell_type": "markdown",
   "metadata": {},
   "source": [
    "# Semi RLE using SO6"
   ]
  },
  {
   "cell_type": "code",
   "execution_count": 33,
   "metadata": {},
   "outputs": [],
   "source": [
    "def msgs_to_im(msgs, fill=0):\n",
    "    ml = max([len(msg) for msg in msgs])\n",
    "    im = np.zeros((len(msgs), ml), dtype=np.uint8)\n",
    "    for i, msg in enumerate(msgs):\n",
    "        for j, x in enumerate(msg):\n",
    "            im[i, j] = int(x)\n",
    "        for j in range(len(msg), ml):\n",
    "            im[i, j] = fill\n",
    "    return im\n"
   ]
  },
  {
   "cell_type": "code",
   "execution_count": 34,
   "metadata": {},
   "outputs": [],
   "source": [
    "def semi_rl_encode(msg):\n",
    "    return \"\".join([ c * int(c) for c in msg ])\n"
   ]
  },
  {
   "cell_type": "code",
   "execution_count": 45,
   "metadata": {},
   "outputs": [
    {
     "data": {
      "image/png": "[encoded data removed]",
      "text/plain": [
       "<Figure size 640x480 with 1 Axes>"
      ]
     },
     "metadata": {},
     "output_type": "display_data"
    }
   ],
   "source": [
    "msgs_s6_srle = [ semi_rl_encode(msg) for msg in msgs_s6 ]\n",
    "\n",
    "im_s6_srle = msgs_to_im(msgs_s6_srle, fill=0)\n",
    "im_s6_srle[0] = np.roll(im_s6_srle[0], 1)\n",
    "plt.imshow(im_s6_srle, cmap=\"gray\")\n",
    "plt.show()\n"
   ]
  },
  {
   "cell_type": "markdown",
   "metadata": {},
   "source": [
    "# RLE using SO6"
   ]
  },
  {
   "cell_type": "code",
   "execution_count": 37,
   "metadata": {},
   "outputs": [],
   "source": [
    "flip = 1\n",
    "\n",
    "def rl_decode(msg, reset=True):\n",
    "    global flip\n",
    "    if reset: flip = 1\n",
    "    out = \"\"\n",
    "    for c in msg:\n",
    "        out += int(c) * str(flip)\n",
    "        flip = 1 - flip\n",
    "    return out\n"
   ]
  },
  {
   "cell_type": "code",
   "execution_count": 38,
   "metadata": {},
   "outputs": [
    {
     "name": "stdout",
     "output_type": "stream",
     "text": [
      "RL decode on SO6\n"
     ]
    },
    {
     "data": {
      "image/png": "[encoded data removed]",
      "text/plain": [
       "<Figure size 640x480 with 1 Axes>"
      ]
     },
     "metadata": {},
     "output_type": "display_data"
    },
    {
     "name": "stdout",
     "output_type": "stream",
     "text": [
      "RL decode on SO6 (no reset)\n"
     ]
    },
    {
     "data": {
      "image/png": "[encoded data removed]",
      "text/plain": [
       "<Figure size 640x480 with 1 Axes>"
      ]
     },
     "metadata": {},
     "output_type": "display_data"
    }
   ],
   "source": [
    "print(\"RL decode on SO6\")\n",
    "\n",
    "msgs_s6_rle = [ rl_decode(msg) for msg in msgs_s6 ]\n",
    "im_s6_rle = msgs_to_im(msgs_s6_rle, fill=0)\n",
    "im_s6_rle[0] = np.roll(im_s6_rle[0], 1)\n",
    "plt.imshow(im_s6_rle, cmap=\"gray\")\n",
    "plt.show()\n",
    "\n",
    "print(\"RL decode on SO6 (no reset)\")\n",
    "\n",
    "msgs_s6_rle2 = [ rl_decode(msg, False) for msg in msgs_s6 ]\n",
    "im_s6_rle2 = msgs_to_im(msgs_s6_rle2, fill=0)\n",
    "im_s6_rle2[0] = np.roll(im_s6_rle2[0], 1)\n",
    "plt.imshow(im_s6_rle2, cmap=\"gray\")\n",
    "plt.show()\n"
   ]
  },
  {
   "cell_type": "markdown",
   "metadata": {},
   "source": [
    "# SRLE then wrap 36"
   ]
  },
  {
   "cell_type": "code",
   "execution_count": 43,
   "metadata": {},
   "outputs": [
    {
     "name": "stdout",
     "output_type": "stream",
     "text": [
      "556\n"
     ]
    },
    {
     "data": {
      "image/png": "[encoded data removed]",
      "text/plain": [
       "<Figure size 640x480 with 1 Axes>"
      ]
     },
     "metadata": {},
     "output_type": "display_data"
    }
   ],
   "source": [
    "msgs_flat_srle = semi_rl_encode(msgs_flat)\n",
    "\n",
    "print(len(msgs_flat_srle))\n",
    "\n",
    "wrap = 36\n",
    "# im_fsrle_wrap36_0 = \"0\" * (wrap - (len(msgs_flat_srle) % wrap)) + msgs_flat_srle\n",
    "im_fsrle_wrap36_0 = \"0\" + msgs_flat_srle\n",
    "im_fsrle_wrap36_1 = [ im_fsrle_wrap36_0[i:i+wrap] for i in range(0, len(im_fsrle_wrap36_0), wrap) ]\n",
    "im_fsrle_wrap36 = msgs_to_im(im_fsrle_wrap36_1, fill=0)\n",
    "\n",
    "plt.imshow(im_fsrle_wrap36, cmap=\"gray\")\n",
    "plt.show()\n"
   ]
  },
  {
   "cell_type": "code",
   "execution_count": 64,
   "metadata": {},
   "outputs": [
    {
     "name": "stdout",
     "output_type": "stream",
     "text": [
      "951\n"
     ]
    },
    {
     "data": {
      "image/png": "[encoded data removed]",
      "text/plain": [
       "<Figure size 640x480 with 1 Axes>"
      ]
     },
     "metadata": {},
     "output_type": "display_data"
    }
   ],
   "source": [
    "msgs_raw_raw_flat = \"\".join(msgs_raw)\n",
    "msgs_raw_flat_srle = semi_rl_encode(msgs_raw_raw_flat)\n",
    "\n",
    "print(len(msgs_raw_flat_srle))\n",
    "\n",
    "wrap = 18\n",
    "im_raw_fsrle_wrap36_0 = \"0\" + msgs_raw_flat_srle\n",
    "im_raw_fsrle_wrap36_1 = [ im_raw_fsrle_wrap36_0[i:i+wrap] for i in range(0, len(im_raw_fsrle_wrap36_0), wrap) ]\n",
    "im_raw_fsrle_wrap36 = msgs_to_im(im_raw_fsrle_wrap36_1, fill=0)\n",
    "\n",
    "plt.imshow(im_raw_fsrle_wrap36, cmap=\"gray\")\n",
    "plt.show()\n"
   ]
  },
  {
   "cell_type": "markdown",
   "metadata": {},
   "source": [
    "## Random"
   ]
  },
  {
   "cell_type": "code",
   "execution_count": 40,
   "metadata": {},
   "outputs": [
    {
     "data": {
      "image/png": "[encoded data removed]",
      "text/plain": [
       "<Figure size 640x480 with 1 Axes>"
      ]
     },
     "metadata": {},
     "output_type": "display_data"
    }
   ],
   "source": [
    "# Try it with the random data\n",
    "\n",
    "msgs_rnd_flat_srle = semi_rl_encode(msgs_rnd_flat)\n",
    "\n",
    "wrap = 36\n",
    "im_rnd_fsrle_wrap36_1 = [ msgs_rnd_flat_srle[i:i+wrap] for i in range(0, len(msgs_rnd_flat_srle), wrap) ]\n",
    "im_rnd_fsrle_wrap36 = msgs_to_im(im_rnd_fsrle_wrap36_1, fill=0)\n",
    "\n",
    "plt.imshow(im_rnd_fsrle_wrap36, cmap=\"gray\")\n",
    "plt.show()\n"
   ]
  },
  {
   "cell_type": "markdown",
   "metadata": {},
   "source": [
    "# RLE then wrap 36"
   ]
  },
  {
   "cell_type": "code",
   "execution_count": 47,
   "metadata": {},
   "outputs": [
    {
     "data": {
      "image/png": "[encoded data removed]",
      "text/plain": [
       "<Figure size 640x480 with 1 Axes>"
      ]
     },
     "metadata": {},
     "output_type": "display_data"
    }
   ],
   "source": [
    "msgs_flat_rle = rl_decode(msgs_flat)\n",
    "\n",
    "wrap = 36\n",
    "im_frle_wrap36_0 = \"0\" + msgs_flat_rle\n",
    "im_frle_wrap36_1 = [ im_frle_wrap36_0[i:i+wrap] for i in range(0, len(im_frle_wrap36_0), wrap) ]\n",
    "im_frle_wrap36 = msgs_to_im(im_frle_wrap36_1, fill=0)\n",
    "\n",
    "plt.imshow(im_frle_wrap36, cmap=\"gray\")\n",
    "plt.show()\n"
   ]
  },
  {
   "cell_type": "markdown",
   "metadata": {},
   "source": [
    "# Funky N using SO6"
   ]
  },
  {
   "cell_type": "code",
   "execution_count": 17,
   "metadata": {},
   "outputs": [
    {
     "data": {
      "image/png": "[encoded data removed]",
      "text/plain": [
       "<Figure size 640x480 with 1 Axes>"
      ]
     },
     "metadata": {},
     "output_type": "display_data"
    }
   ],
   "source": [
    "def funkyN(msg):\n",
    "    return \"\".join([ (\"1\" + (\"0\" * (int(c) - 1))) for c in msg ])\n",
    "\n",
    "msgs_s6_fn = [ funkyN(msg) for msg in msgs_s6 ]\n",
    "\n",
    "im_s6_fn = msgs_to_im(msgs_s6_fn, fill=0)\n",
    "plt.imshow(im_s6_fn, cmap=\"gray\")\n",
    "plt.show()\n"
   ]
  },
  {
   "cell_type": "markdown",
   "metadata": {},
   "source": [
    "# Funky N then wrap 18"
   ]
  },
  {
   "cell_type": "code",
   "execution_count": 45,
   "metadata": {},
   "outputs": [
    {
     "data": {
      "image/png": "[encoded data removed]",
      "text/plain": [
       "<Figure size 640x480 with 1 Axes>"
      ]
     },
     "metadata": {},
     "output_type": "display_data"
    }
   ],
   "source": [
    "msgs_flat_fn = funkyN(msgs_flat)\n",
    "\n",
    "wrap = 18\n",
    "im_flat_fn_wrap18_0 = \"0\" * (wrap - (len(msgs_flat_fn) % wrap)) + msgs_flat_fn\n",
    "im_flat_fn_wrap18_1 = [ im_flat_fn_wrap18_0[i:i+wrap] for i in range(0, len(im_flat_fn_wrap18_0), wrap) ]\n",
    "im_flat_fn_wrap18 = msgs_to_im(im_flat_fn_wrap18_1, fill=0)\n",
    "\n",
    "plt.imshow(im_flat_fn_wrap18, cmap=\"gray\")\n",
    "plt.show()\n"
   ]
  },
  {
   "cell_type": "code",
   "execution_count": null,
   "metadata": {},
   "outputs": [],
   "source": []
  }
 ],
 "metadata": {
  "kernelspec": {
   "display_name": "Python 3",
   "language": "python",
   "name": "python3"
  },
  "language_info": {
   "codemirror_mode": {
    "name": "ipython",
    "version": 3
   },
   "file_extension": ".py",
   "mimetype": "text/x-python",
   "name": "python",
   "nbconvert_exporter": "python",
   "pygments_lexer": "ipython3",
   "version": "3.11.1"
  }
 },
 "nbformat": 4,
 "nbformat_minor": 2
}
