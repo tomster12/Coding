{
 "cells": [
  {
   "cell_type": "code",
   "execution_count": 2,
   "metadata": {},
   "outputs": [],
   "source": [
    "from locallib import eyeutil\n",
    "from collections import Counter\n"
   ]
  },
  {
   "cell_type": "code",
   "execution_count": 3,
   "metadata": {},
   "outputs": [
    {
     "name": "stdout",
     "output_type": "stream",
     "text": [
      "Counter({1: 26, 2: 23, 3: 5, 4: 3})\n",
      "57 57\n",
      "Counter({1: 25, 2: 22, 3: 8, 5: 2})\n",
      "57 57\n",
      "Counter({1: 25, 2: 22, 3: 11, 4: 4})\n",
      "62 62\n",
      "Counter({1: 32, 2: 21, 3: 4, 4: 4})\n",
      "61 61\n",
      "Counter({1: 26, 2: 24, 3: 8, 4: 7, 6: 1, 5: 1})\n",
      "67 67\n",
      "Counter({1: 28, 2: 21, 3: 13, 6: 1, 5: 1, 4: 1})\n",
      "65 65\n",
      "Counter({1: 28, 2: 18, 3: 10, 4: 5, 5: 1})\n",
      "62 62\n",
      "Counter({1: 31, 2: 28, 3: 5, 5: 2, 4: 2})\n",
      "68 68\n",
      "Counter({1: 28, 2: 23, 3: 9, 4: 2, 5: 1})\n",
      "63 63\n"
     ]
    }
   ],
   "source": [
    "msg_freqs = []\n",
    "for msg in eyeutil.msgs_eye_tri:\n",
    "    msg_freq = Counter(msg)\n",
    "    freq_freq = Counter(msg_freq.values())\n",
    "    msg_freqs.append(msg_freq)\n",
    "    print(freq_freq)\n",
    "\n",
    "    check = sum(freq_freq.values())\n",
    "    real = len(set(msg))\n",
    "    print(check, real)\n",
    "    "
   ]
  },
  {
   "cell_type": "code",
   "execution_count": 4,
   "metadata": {},
   "outputs": [
    {
     "ename": "IndexError",
     "evalue": "list index out of range",
     "output_type": "error",
     "traceback": [
      "\u001b[1;31m---------------------------------------------------------------------------\u001b[0m",
      "\u001b[1;31mIndexError\u001b[0m                                Traceback (most recent call last)",
      "Cell \u001b[1;32mIn[4], line 2\u001b[0m\n\u001b[0;32m      1\u001b[0m \u001b[38;5;28;01mfor\u001b[39;00m i, msg \u001b[38;5;129;01min\u001b[39;00m \u001b[38;5;28menumerate\u001b[39m(eyeutil\u001b[38;5;241m.\u001b[39mmsgs_eye_tri):\n\u001b[1;32m----> 2\u001b[0m     freq_msg \u001b[38;5;241m=\u001b[39m \u001b[43m[\u001b[49m\u001b[43m \u001b[49m\u001b[43mmsg_freqs\u001b[49m\u001b[43m[\u001b[49m\u001b[43mt\u001b[49m\u001b[43m]\u001b[49m\u001b[43m \u001b[49m\u001b[38;5;28;43;01mfor\u001b[39;49;00m\u001b[43m \u001b[49m\u001b[43mt\u001b[49m\u001b[43m \u001b[49m\u001b[38;5;129;43;01min\u001b[39;49;00m\u001b[43m \u001b[49m\u001b[43mmsg\u001b[49m\u001b[43m \u001b[49m\u001b[43m]\u001b[49m\n\u001b[0;32m      3\u001b[0m     \u001b[38;5;28mprint\u001b[39m(\u001b[38;5;124m\"\u001b[39m\u001b[38;5;124m,\u001b[39m\u001b[38;5;124m\"\u001b[39m\u001b[38;5;241m.\u001b[39mjoin(freq_msg))\n",
      "Cell \u001b[1;32mIn[4], line 2\u001b[0m, in \u001b[0;36m<listcomp>\u001b[1;34m(.0)\u001b[0m\n\u001b[0;32m      1\u001b[0m \u001b[38;5;28;01mfor\u001b[39;00m i, msg \u001b[38;5;129;01min\u001b[39;00m \u001b[38;5;28menumerate\u001b[39m(eyeutil\u001b[38;5;241m.\u001b[39mmsgs_eye_tri):\n\u001b[1;32m----> 2\u001b[0m     freq_msg \u001b[38;5;241m=\u001b[39m [ \u001b[43mmsg_freqs\u001b[49m\u001b[43m[\u001b[49m\u001b[43mt\u001b[49m\u001b[43m]\u001b[49m \u001b[38;5;28;01mfor\u001b[39;00m t \u001b[38;5;129;01min\u001b[39;00m msg ]\n\u001b[0;32m      3\u001b[0m     \u001b[38;5;28mprint\u001b[39m(\u001b[38;5;124m\"\u001b[39m\u001b[38;5;124m,\u001b[39m\u001b[38;5;124m\"\u001b[39m\u001b[38;5;241m.\u001b[39mjoin(freq_msg))\n",
      "\u001b[1;31mIndexError\u001b[0m: list index out of range"
     ]
    }
   ],
   "source": [
    "for i, msg in enumerate(eyeutil.msgs_eye_tri):\n",
    "    freq_msg = [ msg_freqs[t] for t in msg ]\n",
    "    print(\",\".join(freq_msg))\n"
   ]
  },
  {
   "cell_type": "code",
   "execution_count": null,
   "metadata": {},
   "outputs": [],
   "source": []
  }
 ],
 "metadata": {
  "kernelspec": {
   "display_name": "Python 3",
   "language": "python",
   "name": "python3"
  },
  "language_info": {
   "codemirror_mode": {
    "name": "ipython",
    "version": 3
   },
   "file_extension": ".py",
   "mimetype": "text/x-python",
   "name": "python",
   "nbconvert_exporter": "python",
   "pygments_lexer": "ipython3",
   "version": "3.11.1"
  }
 },
 "nbformat": 4,
 "nbformat_minor": 2
}
