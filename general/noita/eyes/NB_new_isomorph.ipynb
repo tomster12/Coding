{
 "cells": [
  {
   "cell_type": "code",
   "execution_count": 17,
   "metadata": {},
   "outputs": [],
   "source": [
    "from __future__ import annotations\n",
    "from locallib import eyeutil\n",
    "import matplotlib.pyplot as plt\n"
   ]
  },
  {
   "cell_type": "code",
   "execution_count": 15,
   "metadata": {},
   "outputs": [],
   "source": [
    "class Text:\n",
    "    letters: list[str]\n",
    "    alphabet: set[str]\n",
    "\n",
    "    def __init__(self, letters: list[str]):\n",
    "        self.letters = letters\n",
    "        self.alphabet = list(set(letters))\n",
    "\n",
    "    @staticmethod\n",
    "    def from_string(msg):\n",
    "        return Text(list(msg))\n",
    "\n",
    "    @staticmethod\n",
    "    def from_list(msg):\n",
    "        return Text(msg)\n",
    "\n",
    "    def __str__(self):\n",
    "        return ''.join(self.letters)\n",
    "\n",
    "class TextList:\n",
    "    messages: list[Text]\n",
    "    alphabet: set[str]\n",
    "\n",
    "    def __init__(self, messages: list[Text]):\n",
    "        self.messages = messages\n",
    "        self.alphabet = list(set([letter for message in messages for letter in message.letters]))\n",
    "        for message in self.messages:\n",
    "            message.alphabet = self.alphabet\n",
    "\n",
    "    @staticmethod\n",
    "    def from_string(msgs):\n",
    "        return TextList([Text.from_string(msg) for msg in msgs])\n",
    "\n",
    "    @staticmethod\n",
    "    def from_list(msgs):\n",
    "        return TextList([Text.from_list(msg) for msg in msgs])\n",
    "\n",
    "    def print_info(self):\n",
    "        print(f\"Number of messages: {len(self.messages)}\")\n",
    "        print(f\"Alphabet ({len(self.alphabet)}): {self.alphabet}\")\n",
    "\n",
    "    def __getitem__(self, key):\n",
    "        return self.messages[key]\n"
   ]
  },
  {
   "cell_type": "code",
   "execution_count": 16,
   "metadata": {},
   "outputs": [
    {
     "name": "stdout",
     "output_type": "stream",
     "text": [
      "Number of messages: 9\n",
      "Alphabet (83): [0, 1, 2, 3, 4, 5, 6, 7, 8, 9, 10, 11, 12, 13, 14, 15, 16, 17, 18, 19, 20, 21, 22, 23, 24, 25, 26, 27, 28, 29, 30, 31, 32, 33, 34, 35, 36, 37, 38, 39, 40, 41, 42, 43, 44, 45, 46, 47, 48, 49, 50, 51, 52, 53, 54, 55, 56, 57, 58, 59, 60, 61, 62, 63, 64, 65, 66, 67, 68, 69, 70, 71, 72, 73, 74, 75, 76, 77, 78, 79, 80, 81, 82]\n"
     ]
    }
   ],
   "source": [
    "ct = TextList.from_list(eyeutil.msgs_eye_tri)\n",
    "ct.print_info()\n"
   ]
  },
  {
   "cell_type": "code",
   "execution_count": 19,
   "metadata": {},
   "outputs": [],
   "source": [
    "def plot_text_list(text_list: TextList):\n",
    "    fig, ax = plt.subplots()\n",
    "    for i, message in enumerate(text_list.messages):\n",
    "        ax.plot([i for i in range(len(message.letters))], message.letters, label=f\"Message {i}\")\n",
    "    ax.legend()\n",
    "    plt.show()\n"
   ]
  },
  {
   "cell_type": "code",
   "execution_count": null,
   "metadata": {},
   "outputs": [],
   "source": [
    "plot_text_list(ct)"
   ]
  }
 ],
 "metadata": {
  "language_info": {
   "name": "python"
  }
 },
 "nbformat": 4,
 "nbformat_minor": 2
}
