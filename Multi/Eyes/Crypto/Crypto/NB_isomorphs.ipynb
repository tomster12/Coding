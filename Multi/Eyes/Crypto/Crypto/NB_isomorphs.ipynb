{
 "cells": [
  {
   "cell_type": "code",
   "execution_count": 23,
   "metadata": {},
   "outputs": [],
   "source": [
    "from locallib import crypto\n",
    "import itertools\n",
    "import string"
   ]
  },
  {
   "cell_type": "markdown",
   "metadata": {},
   "source": [
    "# Following Example\n",
    "\n",
    "https://docs.google.com/document/d/1a4uOf7SkXEPCROEi1iHzU5Lbr3zMbtOqSq_J5c4kyOw/edit"
   ]
  },
  {
   "cell_type": "code",
   "execution_count": 24,
   "metadata": {},
   "outputs": [
    {
     "name": "stdout",
     "output_type": "stream",
     "text": [
      "(True, [1, 2, 3, 3, 4, 4, nan, 5, 5, 6, nan, 7, 5, 8, 2, 9, 10, 11, 12, nan, 4, nan, 11, 8, 12, 10, 5, 1, 2, 5, nan, 3, 6, nan, nan, 7, nan, 2, 12, nan, 11, 9, 2], 12)\n",
      "['GUXD', 'MWCSVBN', 'KFTJOZH', 'QLAPER', 'IY']\n",
      "(True, [1, 2, 3, 3, 4, 4, nan, 5, 5, 6, nan, 7, 5, 8, 2, 9, 10, 11, 12, nan, 4, nan, 11, 8, 12, 10, 5, 1, 2, 5, nan, 3, 6, nan, nan, 7, nan, 2, 12, nan, 11, 9, 2], 12)\n",
      "['ZEVUJACY', 'BXOPSGTLWIKN', 'FQMH']\n",
      "(True, [1, 2, 3, 3, 4, 4, nan, 5, 5, 6, nan, 7, 5, 8, 2, 9, 10, 11, 12, nan, 4, nan, 11, 8, 12, 10, 5, 1, 2, 5, nan, 3, 6, nan, nan, 7, nan, 2, 12, nan, 11, 9, 2], 12)\n",
      "['DOAWHESYK', 'FNXJLM', 'RVG', 'ZPCI', 'BUTQ']\n"
     ]
    }
   ],
   "source": [
    "isomorphs = [\n",
    "    \"USLLMMBEEFQWECSZTGAOMPGCATEUSEILFVKWJSAXGZS\",\n",
    "    \"XVAAWWNRRTLCRSVHJUPZWEUSPJRXVRYATBFCOVPDUHV\",\n",
    "    \"JGWWHHXVVQMIVYGELTCPHSTYCLVJGVKWQUNIAGCOTEG\"\n",
    "]\n",
    "\n",
    "all_pairs = list(itertools.combinations(isomorphs, 2))\n",
    "all_chains = []\n",
    "for pair in all_pairs:\n",
    "    print(crypto.calc_if_isomorphic(pair))\n",
    "    chain = crypto.calc_chains(pair[0], pair[1])\n",
    "    all_chains.append(chain)\n",
    "    print(chain)"
   ]
  },
  {
   "cell_type": "code",
   "execution_count": 25,
   "metadata": {},
   "outputs": [],
   "source": [
    "#   :: Sets of chains produced from script\n",
    "# 1:2 | QLAPER       | MWCSVBN  | IY   | KFTJOZH | GUXD\n",
    "# 2:3 | BXOPSGTLWIKN | ZEVUJACY | FQMH\n",
    "# 1:3 | DOAWHESYK    | RVG      | BUTQ | ZPCI    | FNXJLM\n",
    "\n",
    "#   :: Matching the folowing chains\n",
    "# 1:2 | KFTJOZH\n",
    "# 1:3 | FNXJLM\n",
    "\n",
    "#   :: Can perform alphabet chaining as such\n",
    "# x3   | K..F..T..J..O..Z..H\n",
    "# x2   |    F.N.X.J.L.M\n",
    "#      | -------------------\n",
    "# SUM  | K..F.NTX.J.LOM.Z..H\n",
    "\n",
    "#   :: Then have to stretch all other chains from the pairs\n",
    "# 1:2 x3 | Q..L..A..P..E..R  | M..W..C..S..V..B..N  I..Y | K..F..T..J..O..Z..H | I..Y    | G..U..X..D\n",
    "# 1:3 x2 | D.O.A.W.H.E.S.Y.K | R.V.G                     | B.U.T.Q             | Z.P.C.I | F.N.X.J.L.M\n",
    "\n",
    "#   :: So can now continue and find another chain\n",
    "# 1:2 x3 |   M..W..C..S..V..B..N\n",
    "# 1:3 x2 | D.O.A.W.H.E.S.Y.K B.U.T.Q\n",
    "#        | -------------------------\n",
    "# SUM    | D.OMA.W.HCE.S.YVK.B.UNT.Q\n",
    "# 1:3 x2 |      Z.P.C.I R.V.G\n",
    "#        | -------------------------\n",
    "# SUM    | D.OMAZWPHCEISRYVKGB.UNT.Q\n",
    "\n",
    "#   :: Now try join the 2 together\n",
    "# XXXXXXXXXXXXXXXXXXXXXXXXXX~~~~~~~~~~~~~~~~~~~~~~~~~\n",
    "# D.OMAZWPHCEISRYVKGB.UNT.Q.D.OMAZWPHCEISRYVKGB.UNT.Q\n",
    "#                 K..F.NTX.J.LOM.Z..H\n",
    "# DLOMAZWPHCEISRYVKGBFUNTXQJDLOMAZWPHCEISRYVKGBFUNTXQ\n",
    "\n",
    "# Found: OMAZWPHCEISRYVKGBFUNTXQJDL\n",
    "\n",
    "# This is not the original however, only an equivalent.\n",
    "# You can find the original by looking at all possible decimations and decoding ciphertext:\n",
    "\n",
    "#  1:  UIJQJQSMOEYNQTQKWDSCCSNSWXEFEPPTRHHXVLBEMKT\n",
    "#  2:  UEXNNFWTULAESCELKCUKVGJVHQEBHAMGPLDYZKWXVLW\n",
    "#  3:  UCNBGYDVSBUJDTTSDBOXNTMBEJEGWLJSLUBZNZUELSK\n",
    "#  4:  UHFVRCUHACEYYCHXELEALLPNSDEKAQNPNRETIUHXRXD\n",
    "#  5:  UPGSCAYLTDDMOTUHUEBIPWIQYLEVONGOVWORLCTEJHE\n",
    "#  6:  UWVCZJHUYGKBKCWFAFDBRIVLKOEYDBRXCJUAGQEXIFU\n",
    "#  7:  UZRWLUORWHWPATBAYOHJFKFABMERQVCBMBSNPRQEXAA\n",
    "#  8:  UAIMXVTWQJTTBCAVQIKWJNXPUAESTSZRXIASXOSXCVY\n",
    "#  9:  UMCDFEKJKKSIWTKDHUQRZDLETZEIUCLHGATMRGDENDQ\n",
    "# 10:  UOPXVZEBHPODUCOIBMWUIZZRQWEEBWXMIXYUMWYXPIH\n",
    "# 11:  ULZUIDAIDQBVHTYTOSYLGECKDPECKMFQZKWIFNOEFTB\n",
    "# 12:  UDMGPNQABVHATCDPSNTHXVRFOHEHYDVFJCQOCEKXZPO\n",
    "# 13:  UJLYMKBXEWQFETSBTAAVMUGTACEPSXIYFOKFJJAEGBS\n",
    "# 14:  UQJIJISKOXYHQCQMWRSTCJNJWEEWEUPCRNHEVYBXMMT\n",
    "# 15:  UXXHNWWCUYAXSTEYKTUMVAJOHIEZHGMAPYDLZMWEVYW\n",
    "# 16:  UTNZGLDOSZUSDCTJDZOENCMZESEAWYJJLPBBNBUXLJK\n",
    "# 17:  UNFORTUNATELYTHEEYEGLYPHSREMAINUNDECIPHERED\n",
    "# 18:  UUGJCGYYTRDKOCUNUXBQPFIIYYEOOHGVVFODLTTXJNE\n",
    "# 19:  UFVTZSHPYAKZKTWWAWDZRQVYKVELDZRECSUGGIEEIWU\n",
    "# 20:  UBRFLPODWNWUACBGYVHSFMFGBKEDQOCZMZSHPDQXXGA\n",
    "# 21:  UGIKXOTFQSTCBTAOQQKFJHXUUGEJTJZDXQAJXVSECOY\n",
    "# 22:  UKCRFXKSKMSQWCKRHPQDZRLXTBEQUTLNGGTKRADXNRQ\n",
    "# 23:  UVPEVBEZHUORUTOQBKWPIBZDQFEXBFXKIEYPMFYEPQH\n",
    "# 24:  UYZPIRAQDIBOHCYCOJYYGXCMDUETKKFIZMWQFHOXFCB\n",
    "# 25:  URMAPHQGBOHGTTDUSHTNXORWONENYRVWJTQVCXKEZUO\n",
    "\n",
    "# Found: UNFORTUNATELYTHEEYEGLYPHSREMAINUNDECIPHERED\n"
   ]
  },
  {
   "cell_type": "code",
   "execution_count": 26,
   "metadata": {},
   "outputs": [
    {
     "name": "stdout",
     "output_type": "stream",
     "text": [
      "OMAZWPHCEISRYVKGBFUNTXQJDL\n",
      "\n"
     ]
    }
   ],
   "source": [
    "def map_c_to_v(c):\n",
    "    return string.ascii_uppercase.index(c)\n",
    "\n",
    "def map_v_to_c(c):\n",
    "    return string.ascii_uppercase[c]\n",
    "\n",
    "def safe_mod(v, l):\n",
    "    while v < 0:\n",
    "      v += l\n",
    "    return v % l\n",
    "\n",
    "alphabet = \"OMAZWPHCEISRYVKGBFUNTXQJDL\"\n",
    "print(alphabet)\n",
    "print(\"\")\n",
    "\n",
    "# Try each 2 <= d < 26 multiplier for decimation\n",
    "outputs = []\n",
    "for d in range(3, 26):\n",
    "\n",
    "  # Try each rotation of the candidate alphabet\n",
    "  for rot in range(len(alphabet)):\n",
    "    rot_alphabet = (alphabet[-rot:] if rot > 0 else \"\") + alphabet[:len(alphabet) - rot]\n",
    "    rot_alphabet_v = [ map_c_to_v(c) for c in rot_alphabet ]\n",
    "    # print(rot_alphabet)\n",
    "\n",
    "    # Reverse decimation to get new_alphabet_v and new_alphabet_v_inv\n",
    "    new_alphabet_v_inv = { }\n",
    "    for i, v in enumerate(rot_alphabet_v):\n",
    "      new_alphabet_v_inv[safe_mod(d * i, 26)] = v\n",
    "\n",
    "    # Print output if possible\n",
    "    try:\n",
    "      new_alphabet_v = { }\n",
    "      for i in range(26):\n",
    "        new_alphabet_v[new_alphabet_v_inv[i]] = i\n",
    "      output = \"\".join([ map_v_to_c(new_alphabet_v[i]) for i in range(26) ])\n",
    "      final_output = str(d) + \",\" + str(rot) + \" : \" + output\n",
    "      outputs.append(final_output + \"\\n\")\n",
    "    except: pass\n",
    "\n",
    "# Print outputs to file so can see\n",
    "with open(\"NB_isomorphs_output.txt\", \"w\") as f:\n",
    "  f.writelines(outputs)\n"
   ]
  },
  {
   "cell_type": "markdown",
   "metadata": {},
   "source": [
    "# Custom Example"
   ]
  },
  {
   "cell_type": "code",
   "execution_count": 27,
   "metadata": {},
   "outputs": [],
   "source": [
    "def encode_progressive(alphabet, plaintext, offset, increase):\n",
    "    ciphertext = \"\"\n",
    "    for l in plaintext:\n",
    "        index = alphabet.index(l)\n",
    "        next_index = (index + offset) % len(alphabet)\n",
    "        ciphertext += alphabet[next_index]\n",
    "        offset += increase\n",
    "    return ciphertext\n"
   ]
  },
  {
   "cell_type": "code",
   "execution_count": 38,
   "metadata": {},
   "outputs": [
    {
     "name": "stdout",
     "output_type": "stream",
     "text": [
      "Alphabet (10): ABCDEFGHIJ\n",
      "\n",
      "PT -> CT\n",
      "(0): 'FIAAGHBCJFFBA' -> 'FAEGEHDGFDFDE'\n",
      "(1): 'HBCDDAAGHBCJFFBA' -> 'HDGJBACADJCBJBJA'\n",
      "(2): 'HBDAAGHBCJFFBABCDFG' -> 'HDHGIGJFIHFHFGJCFJC'\n",
      "\n",
      "Isomorphs\n",
      "(0, 1): [1, 2, 1, nan, 3, 2, 4, 3, 4, 3] = 'EGEHDGFDFD' = 'GJBACADJCB'\n",
      "(0, 2): [1, 2, 1, nan, 3, 2, 4, 3, 4, 3] = 'EGEHDGFDFD' = 'HGIGJFIHFH'\n",
      "(1, 2): [1, 2, 3, 2, nan, 4, 3, 1, 4, 1, 4] = 'BACADJCBJBJ' = 'IGJFIHFHFGJ'\n",
      "\n",
      "\n",
      "Chains\n",
      "(0, 1): ['FC', 'FDJ', 'EGJ', 'HA', 'EB', 'GA', 'DB', 'DC']\n",
      "(0, 2): ['EHGGFI', 'FF', 'DH', 'DJ', 'EI']\n",
      "(1, 2): ['BG', 'CJJF', 'BH', 'DI', 'AG', 'BI', 'CF', 'JH', 'AF']\n"
     ]
    }
   ],
   "source": [
    "# Setup plaintext and ciphertext\n",
    "alphabet = \"ABCDEFGHIJ\"\n",
    "pts = [ \"FIAAGHBCJFFBA\", \"HBCDDAAGHBCJFFBA\", \"HBDAAGHBCJFFBABCDFG\" ]\n",
    "cts = [ encode_progressive(alphabet, pt, 0, 2) for pt in pts ]\n",
    "\n",
    "# Calculate isomorphs and chains\n",
    "i_pairs = list(itertools.combinations(range(len(cts)), 2))\n",
    "pair_isos = [ crypto.calc_isomorphs([ cts[pair[0]], cts[pair[1]] ])[0] for pair in i_pairs ]\n",
    "pair_isos_texts = [\n",
    "    [ cts[i_pairs[i][0]][ pair_isos[i][2][0][0]:pair_isos[i][2][0][1] ],\n",
    "      cts[i_pairs[i][1]][ pair_isos[i][2][0][0]:pair_isos[i][2][0][1] ] ]\n",
    "    for i in range(len(i_pairs))]\n",
    "pair_chains = [ crypto.calc_chains(pair_isos_texts[i][0], pair_isos_texts[i][1]) for i in range(len(i_pairs)) ]\n",
    "\n",
    "# Print out all information\n",
    "print(f\"Alphabet ({len(alphabet)}): {alphabet}\")\n",
    "print(\"\\nPT -> CT\")\n",
    "for i in range(len(cts)):\n",
    "    print(f\"({i}): '{pts[i]}' -> '{cts[i]}'\")\n",
    "print(\"\\nIsomorphs\")\n",
    "for i in range(len(i_pairs)):\n",
    "    print(f\"{i_pairs[i]}: {pair_isos[i][0]} = '{pair_isos_texts[i][0]}' = '{pair_isos_texts[i][1]}'\")\n",
    "print(\"\")\n",
    "print(\"\\nChains\")\n",
    "for i in range(len(i_pairs)):\n",
    "    print(f\"{i_pairs[i]}: {pair_chains[i]}\")\n"
   ]
  },
  {
   "cell_type": "code",
   "execution_count": 39,
   "metadata": {},
   "outputs": [
    {
     "name": "stdout",
     "output_type": "stream",
     "text": [
      "E G E H D G F D F D\n",
      "4 6 4 7 3 6 5 3 5 3\n",
      "\n",
      "G J B A C A D J C B\n",
      "6 9 1 0 2 0 3 9 2 1\n",
      "\n",
      "E G E H D G F D F D\n",
      "4 6 4 7 3 6 5 3 5 3\n",
      "\n",
      "H G I G J F I H F H\n",
      "7 6 8 6 9 5 8 7 5 7\n",
      "\n",
      "B A C A D J C B J B J\n",
      "1 0 2 0 3 9 2 1 9 1 9\n",
      "\n",
      "I G J F I H F H F G J\n",
      "8 6 9 5 8 7 5 7 5 6 9\n",
      "\n"
     ]
    }
   ],
   "source": [
    "print(\" \".join([ l for l in pair_isos_texts[0][0]]))\n",
    "print(\" \".join([ str(map_c_to_v(l)) for l in pair_isos_texts[0][0]]))\n",
    "print(\"\")\n",
    "print(\" \".join([ l for l in pair_isos_texts[0][1]]))\n",
    "print(\" \".join([ str(map_c_to_v(l)) for l in pair_isos_texts[0][1]]))\n",
    "print(\"\")\n",
    "print(\" \".join([ l for l in pair_isos_texts[1][0]]))\n",
    "print(\" \".join([ str(map_c_to_v(l)) for l in pair_isos_texts[1][0]]))\n",
    "print(\"\")\n",
    "print(\" \".join([ l for l in pair_isos_texts[1][1]]))\n",
    "print(\" \".join([ str(map_c_to_v(l)) for l in pair_isos_texts[1][1]]))\n",
    "print(\"\")\n",
    "print(\" \".join([ l for l in pair_isos_texts[2][0]]))\n",
    "print(\" \".join([ str(map_c_to_v(l)) for l in pair_isos_texts[2][0]]))\n",
    "print(\"\")\n",
    "print(\" \".join([ l for l in pair_isos_texts[2][1]]))\n",
    "print(\" \".join([ str(map_c_to_v(l)) for l in pair_isos_texts[2][1]]))\n",
    "print(\"\")"
   ]
  },
  {
   "cell_type": "code",
   "execution_count": 7,
   "metadata": {},
   "outputs": [],
   "source": [
    "# 12 6x | HDJ  EA  FB  GC\n",
    "# 13 2x | DFHJ EGI\n",
    "# 23 6x | DJF  AG  CI  BH\n",
    "\n",
    "#         XXXXXXXXXX~~~~~~~~~~\n",
    "# 12 6x |     H.....D.....J\n",
    "# 13 2x | D.F.H.J   D.F.H.J\n",
    "\n",
    "#         XXXXXXXXXX~~~~~~~~~~\n",
    "# 13 2x | D.F.H.J   D.F.H.J\n",
    "# 23 6x | D.....J.....F\n",
    "# 23 6x |         B.....H\n",
    "# SUM   | D.F.H.J.B.\n",
    "\n",
    "#         XXXXXXXXXX~~~~~~~~~~\n",
    "# 13 2x | E.G.I.....E.G.I.....\n",
    "# 12 6x | E.....A\n",
    "# 23 6x |       A.....G\n",
    "# 23 6x |         C.....I\n",
    "# SUM   | E.G.I.A.C.\n",
    "\n",
    "#       | D.F.H.J.B.\n",
    "#       | .E.G.I.A.C\n",
    "# SUM   | DEFGHIJABC\n",
    "\n",
    "# ABCDEFGHIJ\n"
   ]
  }
 ],
 "metadata": {
  "kernelspec": {
   "display_name": "Python 3",
   "language": "python",
   "name": "python3"
  },
  "language_info": {
   "codemirror_mode": {
    "name": "ipython",
    "version": 3
   },
   "file_extension": ".py",
   "mimetype": "text/x-python",
   "name": "python",
   "nbconvert_exporter": "python",
   "pygments_lexer": "ipython3",
   "version": "3.11.1"
  },
  "orig_nbformat": 4
 },
 "nbformat": 4,
 "nbformat_minor": 2
}
